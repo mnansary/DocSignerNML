{
 "cells": [
  {
   "cell_type": "code",
   "execution_count": null,
   "id": "b5957b83",
   "metadata": {},
   "outputs": [],
   "source": [
    "from markitdown import MarkItDown\n",
    "from PyPDF2 import PdfReader,PdfWriter\n",
    "\n",
    "pdf_path = \"doctests/Apsis Solutions Ltd  and IUTCS Agreement.pdf\"\n",
    "reader = PdfReader(pdf_path)\n",
    "md = MarkItDown()\n",
    "\n",
    "pages_markdown = []\n",
    "for i, page in enumerate(reader.pages, start=1):\n",
    "    # Extract one page into a temporary PDF file\n",
    "    writer = PdfWriter()\n",
    "    writer.add_page(page)\n",
    "    tmp_pdf = f\"page_{i}.pdf\"\n",
    "    with open(tmp_pdf, \"wb\") as f:\n",
    "        writer.write(f)\n",
    "\n",
    "    # Convert that single page\n",
    "    result = md.convert(tmp_pdf)\n",
    "    pages_markdown.append((i, result.markdown))"
   ]
  },
  {
   "cell_type": "code",
   "execution_count": null,
   "id": "b02bd63e",
   "metadata": {},
   "outputs": [],
   "source": [
    "result=md.convert(\"/home/ansary/work/apsis/DocSignerNML/document_ai_verification/tests/page_1.pdf\")\n",
    "result"
   ]
  },
  {
   "cell_type": "code",
   "execution_count": null,
   "id": "558ae9c0",
   "metadata": {},
   "outputs": [],
   "source": [
    "result.title"
   ]
  },
  {
   "cell_type": "code",
   "execution_count": null,
   "id": "eae7dfb4",
   "metadata": {},
   "outputs": [],
   "source": [
    "result.markdown"
   ]
  },
  {
   "cell_type": "code",
   "execution_count": null,
   "id": "abf15ea7",
   "metadata": {},
   "outputs": [],
   "source": [
    "pages_markdown[0][1]"
   ]
  },
  {
   "cell_type": "code",
   "execution_count": null,
   "id": "55154a34",
   "metadata": {},
   "outputs": [],
   "source": [
    "result=md.convert(\"/home/ansary/work/apsis/DocSignerNML/document_ai_verification/tests/output.pdf\")\n",
    "result"
   ]
  },
  {
   "cell_type": "code",
   "execution_count": null,
   "id": "39cbbb5c",
   "metadata": {},
   "outputs": [],
   "source": [
    "result.markdown"
   ]
  },
  {
   "cell_type": "code",
   "execution_count": null,
   "id": "858d57f9",
   "metadata": {},
   "outputs": [],
   "source": [
    "from PIL import Image\n",
    "\n",
    "# Open image\n",
    "image = Image.open(\"/home/ansary/work/apsis/DocSignerNML/document_ai_verification/sample_document.png\")\n",
    "\n",
    "# Convert to RGB (important for JPG/PNG)\n",
    "if image.mode == \"RGBA\":\n",
    "    image = image.convert(\"RGB\")\n",
    "\n",
    "# Save as PDF\n",
    "image.save(\"output.pdf\", \"PDF\")"
   ]
  },
  {
   "cell_type": "code",
   "execution_count": null,
   "id": "b660c850",
   "metadata": {},
   "outputs": [],
   "source": []
  }
 ],
 "metadata": {
  "kernelspec": {
   "display_name": "docmlaps",
   "language": "python",
   "name": "python3"
  },
  "language_info": {
   "codemirror_mode": {
    "name": "ipython",
    "version": 3
   },
   "file_extension": ".py",
   "mimetype": "text/x-python",
   "name": "python",
   "nbconvert_exporter": "python",
   "pygments_lexer": "ipython3",
   "version": "3.11.13"
  }
 },
 "nbformat": 4,
 "nbformat_minor": 5
}
